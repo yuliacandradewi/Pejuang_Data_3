{
  "nbformat": 4,
  "nbformat_minor": 0,
  "metadata": {
    "colab": {
      "name": "M1P2V1_Operator.ipynb",
      "provenance": [],
      "collapsed_sections": [],
      "authorship_tag": "ABX9TyMRCQ7OZ4vQ3GMwRppdkchA",
      "include_colab_link": true
    },
    "kernelspec": {
      "name": "python3",
      "display_name": "Python 3"
    },
    "language_info": {
      "name": "python"
    }
  },
  "cells": [
    {
      "cell_type": "markdown",
      "metadata": {
        "id": "view-in-github",
        "colab_type": "text"
      },
      "source": [
        "<a href=\"https://colab.research.google.com/github/yuliacandradewi/Pejuang_Data_3/blob/main/M1P2V1_Operator.ipynb\" target=\"_parent\"><img src=\"https://colab.research.google.com/assets/colab-badge.svg\" alt=\"Open In Colab\"/></a>"
      ]
    },
    {
      "cell_type": "markdown",
      "metadata": {
        "id": "tx2Qc2LN2Q_o"
      },
      "source": [
        "# Operator"
      ]
    },
    {
      "cell_type": "markdown",
      "metadata": {
        "id": "3NIpJIil2WdE"
      },
      "source": [
        "Operator = Simbol-simbol yang dapat digunakan untuk mengubah nilai dari satu variabel dengan melibatkan satu atau lebih variabel dan literal.\n",
        "\n",
        "tipe-tipe operator\n",
        "1. Operator Aritmatika\n",
        "2. Operator Assignment\n",
        "3. Operator Pembanding\n",
        "4. Operator Logika\n",
        "5. Operator Membership"
      ]
    },
    {
      "cell_type": "markdown",
      "metadata": {
        "id": "2-WGqDDI3dfX"
      },
      "source": [
        "## Operator Aritmatika\n",
        "\n"
      ]
    },
    {
      "cell_type": "markdown",
      "metadata": {
        "id": "Z49EQG5S4T63"
      },
      "source": [
        "Operator Aritmatika digunakan untuk melakukan operasi matematika yang umum \n",
        "\n",
        "macam-macam operasi aritmatika:\n",
        "```\n",
        "+ : Penjumlahan\n",
        "- : Pengurangan\n",
        "* : Perkalian\n",
        "/ : Pembagian\n",
        "% : Modulus\n",
        "**: Perpangkatan\n",
        "//: Pembagian dengan hasil pembulatan flooring\n",
        "```"
      ]
    },
    {
      "cell_type": "code",
      "metadata": {
        "colab": {
          "base_uri": "https://localhost:8080/"
        },
        "id": "hiMAukV31z_u",
        "outputId": "707cceb4-9d5c-47d0-c392-103da610ae46"
      },
      "source": [
        "# Contoh penggunaan operator aritmatika\n",
        "\n",
        "#Penjumlahan\n",
        "print('Penjumlahan')\n",
        "print(2+2)\n",
        "#Pengurangan\n",
        "print('-'*20)\n",
        "print('Pengurangan')\n",
        "print(2-3)\n",
        "#Perkalian\n",
        "print('-'*20)\n",
        "print('Perkalian')\n",
        "print(2*3)\n",
        "#Pembagian\n",
        "print('-'*20)\n",
        "print('Pembagian')\n",
        "print(2/3)\n",
        "#Modulus\n",
        "print('-'*20)\n",
        "print('Modulus')\n",
        "print(2%3)\n",
        "#Perpangkatan\n",
        "print('-'*20)\n",
        "print('Perpangkatan')\n",
        "print(2**3)\n",
        "#Pembagian Pembulatan Flooring\n",
        "print('-'*20)\n",
        "print('Pembagian Pembulatan Flooring')\n",
        "print(3//2)"
      ],
      "execution_count": null,
      "outputs": [
        {
          "output_type": "stream",
          "name": "stdout",
          "text": [
            "Penjumlahan\n",
            "4\n",
            "--------------------\n",
            "Pengurangan\n",
            "-1\n",
            "--------------------\n",
            "Perkalian\n",
            "6\n",
            "--------------------\n",
            "Pembagian\n",
            "0.6666666666666666\n",
            "--------------------\n",
            "Modulus\n",
            "2\n",
            "--------------------\n",
            "Perpangkatan\n",
            "8\n",
            "--------------------\n",
            "Pembagian Pembulatan Flooring\n",
            "1\n"
          ]
        }
      ]
    },
    {
      "cell_type": "markdown",
      "metadata": {
        "id": "-L5ZTUNT6acz"
      },
      "source": [
        "### Latihan Operator 1"
      ]
    },
    {
      "cell_type": "code",
      "metadata": {
        "colab": {
          "base_uri": "https://localhost:8080/"
        },
        "id": "vxQ6KnY76l3i",
        "outputId": "aeb1c3ed-8cb5-4a20-8ba8-e8230b71fb7d"
      },
      "source": [
        "# Buatlah program penerapan operator aritmatika \n",
        "# dengan nilai-nilai yang berbeda dari contoh di atas\n",
        "\n",
        "#Penjumlahan\n",
        "print('Penjumlahan')\n",
        "print(157+273)\n",
        "#Pengurangan\n",
        "print('-'*20)\n",
        "print('Pengurangan')\n",
        "print(547-374)\n",
        "print('-'*20)\n",
        "print('Perkalian')\n",
        "print(57*37)\n",
        "#Pembagian\n",
        "print('-'*20)\n",
        "print('Pembagian')\n",
        "print(1785/17)\n",
        "#Modulus\n",
        "print('-'*20)\n",
        "print('Modulus')\n",
        "print(1524%531)\n",
        "#Perpangkatan\n",
        "print('-'*20)\n",
        "print('Perpangkatan')\n",
        "print(17**7)\n",
        "#Pembagian Pembulatan Flooring\n",
        "print('-'*20)\n",
        "print('Pembagian Pembulatan Flooring')\n",
        "print(143//37)"
      ],
      "execution_count": null,
      "outputs": [
        {
          "output_type": "stream",
          "name": "stdout",
          "text": [
            "Penjumlahan\n",
            "430\n",
            "--------------------\n",
            "Pengurangan\n",
            "173\n",
            "--------------------\n",
            "Perkalian\n",
            "2109\n",
            "--------------------\n",
            "Pembagian\n",
            "105.0\n",
            "--------------------\n",
            "Modulus\n",
            "462\n",
            "--------------------\n",
            "Perpangkatan\n",
            "410338673\n",
            "--------------------\n",
            "Pembagian Pembulatan Flooring\n",
            "3\n"
          ]
        }
      ]
    },
    {
      "cell_type": "markdown",
      "metadata": {
        "id": "lXr5m6G66z0L"
      },
      "source": [
        "## Operator Assignment"
      ]
    },
    {
      "cell_type": "markdown",
      "metadata": {
        "id": "RrIqUPmz6-la"
      },
      "source": [
        "Operator ```assignment``` digunakan untuk menyimpan nilai menjadi suatu variabel\n",
        "\n",
        "```\n",
        "=   : contohnya x = 5  -> x = 5\n",
        "+=  : contohnya x = x + 5 -> x += 5\n",
        "-=  : contohnya x = x - 5 -> x -= 5\n",
        "*=  : contohnya x = x * 5 -> x *= 5\n",
        "/=  : contohnya x = x / 5 -> x /= 5\n",
        "%=  : contohnya x = x % 5 -> x %= 5\n",
        "//= : contohnya x = x // 5-> x //= 5\n",
        "**= : contohnya x = x ** 5-> x **= 5\n",
        "```"
      ]
    },
    {
      "cell_type": "code",
      "metadata": {
        "colab": {
          "base_uri": "https://localhost:8080/"
        },
        "id": "IWR-P9TM8j5l",
        "outputId": "4af861cf-da22-409d-9d0f-8c4d9f4d769e"
      },
      "source": [
        "# Contoh penggunaan operator Assignment\n",
        "\n",
        "# Penjumlahan\n",
        "print('Penjumlahan')\n",
        "x = 5\n",
        "x = x + 5\n",
        "print(x)\n",
        "x = 5\n",
        "x += 3\n",
        "print(x)\n",
        "print('-'*20)\n",
        "\n",
        "# Pengurangan\n",
        "print('Pengurangan')\n",
        "x = 5\n",
        "x = x - 5\n",
        "print(x)\n",
        "x = 5\n",
        "x -= 3\n",
        "print(x)\n",
        "print('-'*20)\n",
        "\n",
        "# Perkalian\n",
        "print('Perkalian')\n",
        "x = 5\n",
        "x = x * 5\n",
        "print(x)\n",
        "x = 5\n",
        "x *= 3\n",
        "print(x)\n",
        "print('-'*20)\n",
        "\n",
        "# Pembagian\n",
        "print('Pembagian')\n",
        "x = 5\n",
        "x = x / 5\n",
        "print(x)\n",
        "x = 5\n",
        "x /= 3\n",
        "print(x)\n",
        "print('-'*20)\n",
        "\n",
        "# Modulus\n",
        "print('Modulus')\n",
        "x = 5\n",
        "x = x % 5\n",
        "print(x)\n",
        "x = 5\n",
        "x %= 3\n",
        "print(x)\n",
        "print('-'*20)\n",
        "\n",
        "# Pembagian Flooring\n",
        "print('Pembagian Flooring')\n",
        "x = 5\n",
        "x = x // 5\n",
        "print(x)\n",
        "x = 5\n",
        "x //= 3\n",
        "print(x)\n",
        "print('-'*20)\n",
        "\n",
        "# Perpangkatan\n",
        "print('Perpangkatan')\n",
        "x = 5\n",
        "x = x ** 5\n",
        "print(x)\n",
        "x = 5\n",
        "x **= 3\n",
        "print(x)\n",
        "print('-'*20)"
      ],
      "execution_count": null,
      "outputs": [
        {
          "output_type": "stream",
          "name": "stdout",
          "text": [
            "Penjumlahan\n",
            "10\n",
            "8\n",
            "--------------------\n",
            "Pengurangan\n",
            "0\n",
            "2\n",
            "--------------------\n",
            "Perkalian\n",
            "25\n",
            "15\n",
            "--------------------\n",
            "Pembagian\n",
            "1.0\n",
            "1.6666666666666667\n",
            "--------------------\n",
            "Modulus\n",
            "0\n",
            "2\n",
            "--------------------\n",
            "Pembagian Flooring\n",
            "1\n",
            "1\n",
            "--------------------\n",
            "Perpangkatan\n",
            "3125\n",
            "125\n",
            "--------------------\n"
          ]
        }
      ]
    },
    {
      "cell_type": "markdown",
      "metadata": {
        "id": "pZER1m50-QSu"
      },
      "source": [
        "### Latihan Operator 2"
      ]
    },
    {
      "cell_type": "code",
      "metadata": {
        "colab": {
          "base_uri": "https://localhost:8080/"
        },
        "id": "O_oVTwBa-WWU",
        "outputId": "4561e169-1e7c-4f82-d14e-d2ea5ddbdd40"
      },
      "source": [
        "# Buatlah program penerapan operator assignment\n",
        "# dengan nilai-nilai yang berbeda dari contoh di atas\n",
        "\n",
        "# Penjumlahan\n",
        "print('Penjumlahan')\n",
        "x = 17\n",
        "x = x + 37\n",
        "print(x)\n",
        "x = 17\n",
        "x += 53\n",
        "print(x)\n",
        "print('-'*20)\n",
        "\n",
        "# Pengurangan\n",
        "print('Pengurangan')\n",
        "x = 17\n",
        "x = x - 7\n",
        "print(x)\n",
        "x = 17\n",
        "x -= 11\n",
        "print(x)\n",
        "print('-'*20)\n",
        "\n",
        "# Perkalian\n",
        "print('Perkalian')\n",
        "x = 17\n",
        "x = x * 19\n",
        "print(x)\n",
        "x = 17\n",
        "x *= 11\n",
        "print(x)\n",
        "print('-'*20)\n",
        "\n",
        "# Pembagian\n",
        "print('Pembagian')\n",
        "x = 105\n",
        "x = x / 15\n",
        "print(x)\n",
        "x = 105\n",
        "x /= 35\n",
        "print(x)\n",
        "print('-'*20)\n",
        "\n",
        "# Modulus\n",
        "print('Modulus')\n",
        "x = 137\n",
        "x = x % 23\n",
        "print(x)\n",
        "x = 137\n",
        "x %= 27\n",
        "print(x)\n",
        "print('-'*20)\n",
        "\n",
        "# Pembagian Flooring\n",
        "print('Pembagian Flooring')\n",
        "x = 357\n",
        "x = x // 37\n",
        "print(x)\n",
        "x = 357\n",
        "x //= 47\n",
        "print(x)\n",
        "print('-'*20)\n",
        "\n",
        "# Perpangkatan\n",
        "print('Perpangkatan')\n",
        "x = 17\n",
        "x = x ** 11\n",
        "print(x)\n",
        "x = 17\n",
        "x **= 9\n",
        "print(x)\n",
        "print('-'*20)"
      ],
      "execution_count": null,
      "outputs": [
        {
          "output_type": "stream",
          "name": "stdout",
          "text": [
            "Penjumlahan\n",
            "54\n",
            "70\n",
            "--------------------\n",
            "Pengurangan\n",
            "10\n",
            "6\n",
            "--------------------\n",
            "Perkalian\n",
            "323\n",
            "187\n",
            "--------------------\n",
            "Pembagian\n",
            "7.0\n",
            "3.0\n",
            "--------------------\n",
            "Modulus\n",
            "22\n",
            "2\n",
            "--------------------\n",
            "Pembagian Flooring\n",
            "9\n",
            "7\n",
            "--------------------\n",
            "Perpangkatan\n",
            "34271896307633\n",
            "118587876497\n",
            "--------------------\n"
          ]
        }
      ]
    },
    {
      "cell_type": "markdown",
      "metadata": {
        "id": "Jmwnom9d-pLG"
      },
      "source": [
        "## Operator Pembanding"
      ]
    },
    {
      "cell_type": "markdown",
      "metadata": {
        "id": "2ePp12Ak-uJa"
      },
      "source": [
        "Operator pembanding digunakan untuk membandingkan 2 nilai atau variabel \n",
        "\n",
        "macam-macam operator pembanding:\n",
        "\n",
        "```\n",
        "== -> sama dengan\n",
        "!= -> tidak sama dengan\n",
        ">  -> lebih dari\n",
        "<  -> kurang dari\n",
        ">= -> lebih dari dan sama dengan\n",
        "<= -> kurang dari dan sama dengan\n",
        "```"
      ]
    },
    {
      "cell_type": "code",
      "metadata": {
        "colab": {
          "base_uri": "https://localhost:8080/"
        },
        "id": "_8E6I6Ye_Z-B",
        "outputId": "d8b75fd1-22c4-4c9c-b9e0-099d304efd25"
      },
      "source": [
        "# Contoh penggunaan operator pembanding\n",
        "\n",
        "print(2==2)\n",
        "print(2!=2)\n",
        "print(2>2)\n",
        "print(2<2)\n",
        "print(2>=2)\n",
        "print(2<=2)"
      ],
      "execution_count": null,
      "outputs": [
        {
          "output_type": "stream",
          "name": "stdout",
          "text": [
            "True\n",
            "False\n",
            "False\n",
            "False\n",
            "True\n",
            "True\n"
          ]
        }
      ]
    },
    {
      "cell_type": "markdown",
      "metadata": {
        "id": "5Bw5Lpnz_wrh"
      },
      "source": [
        "### Latihan Operator 3"
      ]
    },
    {
      "cell_type": "code",
      "metadata": {
        "colab": {
          "base_uri": "https://localhost:8080/"
        },
        "id": "PeX8dJm3_0yT",
        "outputId": "71913954-23b8-4cfa-e58a-5bfbcb51d9f2"
      },
      "source": [
        "# Buatlah program penerapan operator pembanding\n",
        "# dengan nilai-nilai yang berbeda dari contoh di atas\n",
        "\n",
        "print(97==57)\n",
        "print(357!=357)\n",
        "print(785>537)\n",
        "print(379<759)\n",
        "print(987>=987)\n",
        "print(675<=751)"
      ],
      "execution_count": null,
      "outputs": [
        {
          "output_type": "stream",
          "name": "stdout",
          "text": [
            "False\n",
            "False\n",
            "True\n",
            "True\n",
            "True\n",
            "True\n"
          ]
        }
      ]
    },
    {
      "cell_type": "markdown",
      "metadata": {
        "id": "rgSVHY3TAAZS"
      },
      "source": [
        "## Operator Logika"
      ]
    },
    {
      "cell_type": "markdown",
      "metadata": {
        "id": "GhevDVBjADaE"
      },
      "source": [
        "Operator logika digunakan untuk mengkombinasikan statment-statment kondisional \n",
        "\n",
        "macam-macam operator logika:\n",
        "\n",
        "```\n",
        "and -> kondisi menjadi benar apabila semua statmentnya benar\n",
        "or  -> kondisi menjadi benar apabila salah satu statmentnya ada yang benar\n",
        "not -> membalik hasil dari benar ke salah dan salah ke benar\n",
        "```"
      ]
    },
    {
      "cell_type": "code",
      "metadata": {
        "colab": {
          "base_uri": "https://localhost:8080/"
        },
        "id": "K6CmP16vAm9k",
        "outputId": "e7603496-d14d-49a8-82cf-6d392c3f3ef3"
      },
      "source": [
        "# Contoh penggunaan operator logika\n",
        "\n",
        "print(True and False)\n",
        "print(False or False)\n",
        "print(not False and True)"
      ],
      "execution_count": null,
      "outputs": [
        {
          "output_type": "stream",
          "name": "stdout",
          "text": [
            "False\n",
            "False\n",
            "True\n"
          ]
        }
      ]
    },
    {
      "cell_type": "markdown",
      "metadata": {
        "id": "AFE-_jSwA7SG"
      },
      "source": [
        "### Latihan Operator 4"
      ]
    },
    {
      "cell_type": "code",
      "metadata": {
        "colab": {
          "base_uri": "https://localhost:8080/"
        },
        "id": "drhS8pKvBAZg",
        "outputId": "cf4cadca-ec20-4823-8723-925f8db86857"
      },
      "source": [
        "# Buatlah program penerapan operator logika \n",
        "# dengan nilai-nilai yang berbeda dari contoh di atas\n",
        "\n",
        "print(False and False)\n",
        "print(False or True)\n",
        "print(not True and True)"
      ],
      "execution_count": null,
      "outputs": [
        {
          "output_type": "stream",
          "name": "stdout",
          "text": [
            "False\n",
            "True\n",
            "False\n"
          ]
        }
      ]
    },
    {
      "cell_type": "markdown",
      "metadata": {
        "id": "MBAbVyxPBPPI"
      },
      "source": [
        "## Operator Keanggotaan"
      ]
    },
    {
      "cell_type": "markdown",
      "metadata": {
        "id": "QHNS33kWBWaP"
      },
      "source": [
        "Operator keanggotaan digunakan untuk menguji apakah urutan disajikan dalam suatu objek \n",
        "\n",
        "macam-macam operator keanggotaan:\n",
        "\n",
        "```\n",
        "in     -> return True ketika nilai tertentu dalam sebuah urutan ada\n",
        "not in -> return True ketika nilai tertentu dalam sebuah urutan tidak ada\n",
        "```"
      ]
    },
    {
      "cell_type": "code",
      "metadata": {
        "colab": {
          "base_uri": "https://localhost:8080/"
        },
        "id": "f_SeBrAhB2B0",
        "outputId": "79c2f2b7-38ae-4a1a-d030-d060ff73691c"
      },
      "source": [
        "# Contoh penggunaan operator keanggotaan\n",
        "a = (1, 2, 3, 4, 5, 6)\n",
        "b = 2\n",
        "\n",
        "print(b in a)\n",
        "\n",
        "print('-'*20)\n",
        "a = (1, 2, 3, 4, 5, 6)\n",
        "b = 7\n",
        "print(b not in a)"
      ],
      "execution_count": null,
      "outputs": [
        {
          "output_type": "stream",
          "name": "stdout",
          "text": [
            "True\n",
            "--------------------\n",
            "True\n"
          ]
        }
      ]
    },
    {
      "cell_type": "markdown",
      "metadata": {
        "id": "PXYYdW7nCRKh"
      },
      "source": [
        "### Latihan Operator 5"
      ]
    },
    {
      "cell_type": "code",
      "metadata": {
        "colab": {
          "base_uri": "https://localhost:8080/"
        },
        "id": "oJ9oxfRyCUq-",
        "outputId": "d3eb0a2b-8a89-4eb5-a1eb-7b045844a833"
      },
      "source": [
        "# Buatlah program penerapan operator keanggotaan/membership\n",
        "# dengan nilai-nilai yang berbeda dari contoh di atas\n",
        "\n",
        "x = (2, 0, 0, 0, 0, 1, 5, 0, 3, 9)\n",
        "y = 17\n",
        "\n",
        "print(y in x)\n",
        "\n",
        "print('-'*20)\n",
        "x = (2, 0, 0, 0, 0, 1, 5, 0, 3, 9)\n",
        "y = 37\n",
        "print(y not in x)"
      ],
      "execution_count": null,
      "outputs": [
        {
          "output_type": "stream",
          "name": "stdout",
          "text": [
            "False\n",
            "--------------------\n",
            "True\n"
          ]
        }
      ]
    }
  ]
}