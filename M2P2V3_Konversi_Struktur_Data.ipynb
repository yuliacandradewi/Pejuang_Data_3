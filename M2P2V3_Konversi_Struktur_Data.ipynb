{
  "nbformat": 4,
  "nbformat_minor": 0,
  "metadata": {
    "colab": {
      "name": "M2P2V3_Konversi_Struktur_Data.ipynb",
      "provenance": [],
      "collapsed_sections": [],
      "authorship_tag": "ABX9TyPtC/XgpRdnoVIBRV2Ban7v",
      "include_colab_link": true
    },
    "kernelspec": {
      "name": "python3",
      "display_name": "Python 3"
    },
    "language_info": {
      "name": "python"
    }
  },
  "cells": [
    {
      "cell_type": "markdown",
      "metadata": {
        "id": "view-in-github",
        "colab_type": "text"
      },
      "source": [
        "<a href=\"https://colab.research.google.com/github/yuliacandradewi/Pejuang_Data_3/blob/main/M2P2V3_Konversi_Struktur_Data.ipynb\" target=\"_parent\"><img src=\"https://colab.research.google.com/assets/colab-badge.svg\" alt=\"Open In Colab\"/></a>"
      ]
    },
    {
      "cell_type": "markdown",
      "metadata": {
        "id": "RM0Wr_3IUq7H"
      },
      "source": [
        "#Konversi Struktur Data"
      ]
    },
    {
      "cell_type": "markdown",
      "metadata": {
        "id": "0nLtnDmpUvPN"
      },
      "source": [
        "Fungsi untuk mengubah/konversi struktur data:\n",
        "\n",
        "a. ```list()```: untuk mengubah menjadi list\n",
        "\n",
        "b. ```tuple()```: untuk mengubah menjadi tuple\n",
        "\n",
        "c. ```set()```: untuk mengubah menjadi set\n",
        "\n",
        "d. ```dict()```: untuk mengubah menjadi dictionary"
      ]
    },
    {
      "cell_type": "markdown",
      "metadata": {
        "id": "7t-x2nqbVdt0"
      },
      "source": [
        "##Mengkonversi tipe data list:"
      ]
    },
    {
      "cell_type": "code",
      "metadata": {
        "id": "nJrvIr5kUfNV"
      },
      "source": [
        "# Membuat 2 list\n",
        "L1 = [1, 2, 3, 4]\n",
        "L2 = [5, 6, 7, 8]"
      ],
      "execution_count": null,
      "outputs": []
    },
    {
      "cell_type": "code",
      "metadata": {
        "colab": {
          "base_uri": "https://localhost:8080/"
        },
        "id": "wOm45-ULWn2B",
        "outputId": "fec2446c-66c2-4d5b-aa05-89c447e3270e"
      },
      "source": [
        "# Mengkonversi struktur data list\n",
        "k_tuple = tuple(L1)\n",
        "k_set = set(L2)\n",
        "k_dict = dict(zip(L1, L2))\n",
        "# Melihat data yang telah dikonversi\n",
        "print(k_tuple)\n",
        "print(k_set)\n",
        "print(k_dict)"
      ],
      "execution_count": null,
      "outputs": [
        {
          "output_type": "stream",
          "name": "stdout",
          "text": [
            "(1, 2, 3, 4)\n",
            "{8, 5, 6, 7}\n",
            "{1: 5, 2: 6, 3: 7, 4: 8}\n"
          ]
        }
      ]
    },
    {
      "cell_type": "markdown",
      "metadata": {
        "id": "qRalQi4HXF_3"
      },
      "source": [
        "##Mengkonversikan tipe data tuple"
      ]
    },
    {
      "cell_type": "code",
      "metadata": {
        "id": "T6foI630XLo9"
      },
      "source": [
        "# Membuat dua tuple\n",
        "T1 = (1, 2, 3, 4)\n",
        "T2 = (5, 6, 7, 8)"
      ],
      "execution_count": null,
      "outputs": []
    },
    {
      "cell_type": "code",
      "metadata": {
        "colab": {
          "base_uri": "https://localhost:8080/"
        },
        "id": "uw-xWMLIXVvE",
        "outputId": "84ff6777-232d-460a-f39d-19c81d396a15"
      },
      "source": [
        "# Mengkonversi struktur data tuple\n",
        "k_list = list(T1)\n",
        "k_set = set(T2)\n",
        "k_dict = dict(zip(T1, T2))\n",
        "# Melihat data yang telah dikonversi\n",
        "print(k_list)\n",
        "print(k_set)\n",
        "print(k_dict)"
      ],
      "execution_count": null,
      "outputs": [
        {
          "output_type": "stream",
          "name": "stdout",
          "text": [
            "[1, 2, 3, 4]\n",
            "{8, 5, 6, 7}\n",
            "{1: 5, 2: 6, 3: 7, 4: 8}\n"
          ]
        }
      ]
    },
    {
      "cell_type": "markdown",
      "metadata": {
        "id": "aYSrT2J5X0WC"
      },
      "source": [
        "## Mengkonversi tipe data set:"
      ]
    },
    {
      "cell_type": "code",
      "metadata": {
        "id": "ojzhp67qXvxG"
      },
      "source": [
        "# Membuat dua set\n",
        "S1 = {1, 2, 3, 4}\n",
        "S2 = {5, 6, 7, 8}"
      ],
      "execution_count": null,
      "outputs": []
    },
    {
      "cell_type": "code",
      "metadata": {
        "colab": {
          "base_uri": "https://localhost:8080/"
        },
        "id": "2aqrfrxBYFzp",
        "outputId": "afe6c6ca-ef3e-4337-e72d-8377ac9d55f6"
      },
      "source": [
        "# Mengkonversi struktur data set\n",
        "k_list = list(S1)\n",
        "k_tuple = tuple(S2)\n",
        "k_dict = dict(zip(S1, S2))\n",
        "# Melihat data yang telah dikonversi\n",
        "print(k_list)\n",
        "print(k_tuple)\n",
        "print(k_dict)\n"
      ],
      "execution_count": null,
      "outputs": [
        {
          "output_type": "stream",
          "name": "stdout",
          "text": [
            "[1, 2, 3, 4]\n",
            "(8, 5, 6, 7)\n",
            "{1: 8, 2: 5, 3: 6, 4: 7}\n"
          ]
        }
      ]
    },
    {
      "cell_type": "markdown",
      "metadata": {
        "id": "MYBK4EiBYiA5"
      },
      "source": [
        "##Mengkonversi tipe data list:"
      ]
    },
    {
      "cell_type": "code",
      "metadata": {
        "id": "G1e0e2loYg8W"
      },
      "source": [
        "# Membuat dictionary\n",
        "D = {\n",
        "    \"nama\": \"Andi\",\n",
        "     \"alamat\": \"Yogyakarta\",\n",
        "     \"umur\": 20\n",
        "}"
      ],
      "execution_count": null,
      "outputs": []
    },
    {
      "cell_type": "code",
      "metadata": {
        "colab": {
          "base_uri": "https://localhost:8080/"
        },
        "id": "jcSDbbgDY12F",
        "outputId": "2cdf0af3-5d11-40be-9fdf-810e58a7acdb"
      },
      "source": [
        "# Mengkonversi struktur data dictionary dari key dan value-nya\n",
        "k_list = list(D.keys())\n",
        "k_tuple = tuple(D.values())\n",
        "k_set = set(D.keys())\n",
        "# Melihat data yang telah dikonversi\n",
        "print(k_list)\n",
        "print(k_tuple)\n",
        "print(k_set)"
      ],
      "execution_count": null,
      "outputs": [
        {
          "output_type": "stream",
          "name": "stdout",
          "text": [
            "['nama', 'alamat', 'umur']\n",
            "('Andi', 'Yogyakarta', 20)\n",
            "{'nama', 'umur', 'alamat'}\n"
          ]
        }
      ]
    },
    {
      "cell_type": "markdown",
      "metadata": {
        "id": "F2jTrfTxZ6Ew"
      },
      "source": [
        "##Latihan"
      ]
    },
    {
      "cell_type": "code",
      "metadata": {
        "id": "KdBBP7MqZ8c3",
        "colab": {
          "base_uri": "https://localhost:8080/"
        },
        "outputId": "16c06903-8b88-4ea3-90cb-d715fffded1f"
      },
      "source": [
        "# Lakukan konversi struktur data yang kalian buat notebook-notebook\n",
        "# sebelumnya menjadi list, tuple, set, dan dictionary (masing-masing satu)\n",
        "\n",
        "# Mengkonversi data tuple menjadi data list\n",
        "TupleSaya1 = (17, 37.5, \"Saya Pejuang Data 3.0\", True, 19+57j)\n",
        "ListSaya1 = list(TupleSaya1)\n",
        "print(ListSaya1)\n",
        "\n",
        "# Mengkonversi data list menjadi data tuple\n",
        "ListSaya2 = [7, 5.7, \"Saya Belajar Python\", True, 3j+4]\n",
        "TupleSaya2 = tuple(ListSaya2)\n",
        "print(TupleSaya2)\n",
        "\n",
        "# Mengkonversi data dictionary menjadi data set\n",
        "DictSaya1 = {'kucing':'cat', 'anjing':'dog', 1:'one', 2:'two'}\n",
        "SetSaya1 = set(DictSaya1.keys())\n",
        "print(SetSaya1)\n",
        "\n",
        "# Mengkonversi data set menjadi data dictionary\n",
        "SetSaya2 = {5, 7.1, \"Saya Belajar Struktur Data Set\", True, 17+69j}\n",
        "SetSaya3 = {'lima', 'tujuh koma satu', 31, False, 87}\n",
        "DictSaya2 = dict(zip(SetSaya2, SetSaya3))\n",
        "print(DictSaya2)\n"
      ],
      "execution_count": 4,
      "outputs": [
        {
          "output_type": "stream",
          "name": "stdout",
          "text": [
            "[17, 37.5, 'Saya Pejuang Data 3.0', True, (19+57j)]\n",
            "(7, 5.7, 'Saya Belajar Python', True, (4+3j))\n",
            "{'anjing', 1, 2, 'kucing'}\n",
            "{(17+69j): False, True: 87, 'Saya Belajar Struktur Data Set': 'lima', 5: 'tujuh koma satu', 7.1: 31}\n"
          ]
        }
      ]
    }
  ]
}