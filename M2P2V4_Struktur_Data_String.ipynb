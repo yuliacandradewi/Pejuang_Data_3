{
  "nbformat": 4,
  "nbformat_minor": 0,
  "metadata": {
    "colab": {
      "name": "M2P2V4_Struktur_Data_String.ipynb",
      "provenance": [],
      "authorship_tag": "ABX9TyO1O1RhZdEFJ+eiv70BrLG5",
      "include_colab_link": true
    },
    "kernelspec": {
      "name": "python3",
      "display_name": "Python 3"
    },
    "language_info": {
      "name": "python"
    }
  },
  "cells": [
    {
      "cell_type": "markdown",
      "metadata": {
        "id": "view-in-github",
        "colab_type": "text"
      },
      "source": [
        "<a href=\"https://colab.research.google.com/github/yuliacandradewi/Pejuang_Data_3/blob/main/M2P2V4_Struktur_Data_String.ipynb\" target=\"_parent\"><img src=\"https://colab.research.google.com/assets/colab-badge.svg\" alt=\"Open In Colab\"/></a>"
      ]
    },
    {
      "cell_type": "markdown",
      "metadata": {
        "id": "8Y_vfun-b-cC"
      },
      "source": [
        "#String"
      ]
    },
    {
      "cell_type": "markdown",
      "metadata": {
        "id": "X0KppTYUcA4m"
      },
      "source": [
        "String dideklarasikan dengan diapit oleh tanda petik."
      ]
    },
    {
      "cell_type": "code",
      "metadata": {
        "colab": {
          "base_uri": "https://localhost:8080/"
        },
        "id": "_as8JpO_bxYB",
        "outputId": "c2c6e7c1-11fa-4b24-ae94-b9cb31396514"
      },
      "source": [
        "# Menampilkan string dengan fungsi print()\n",
        "print(\"Hello World!\")"
      ],
      "execution_count": null,
      "outputs": [
        {
          "output_type": "stream",
          "name": "stdout",
          "text": [
            "Hello World!\n"
          ]
        }
      ]
    },
    {
      "cell_type": "code",
      "metadata": {
        "colab": {
          "base_uri": "https://localhost:8080/"
        },
        "id": "qniH5sUScxAJ",
        "outputId": "39ce85db-4113-49a3-b660-c4926e73a524"
      },
      "source": [
        "# Membuat variabel bertipe string\n",
        "A = \"Belajar Struktur data string\"\n",
        "print(A)"
      ],
      "execution_count": null,
      "outputs": [
        {
          "output_type": "stream",
          "name": "stdout",
          "text": [
            "Belajar Struktur data string\n"
          ]
        }
      ]
    },
    {
      "cell_type": "code",
      "metadata": {
        "colab": {
          "base_uri": "https://localhost:8080/"
        },
        "id": "HIGR87dKcc8I",
        "outputId": "4013de4d-7338-43d6-8e8d-3a235e3a389b"
      },
      "source": [
        "# Membuat variabel string multi-line dengan 3 tanda petik\n",
        "B = \"\"\"Belajar Python\n",
        "Pejuang data 3.0\n",
        "PSDS\n",
        "String\"\"\"\n",
        "print(B)"
      ],
      "execution_count": null,
      "outputs": [
        {
          "output_type": "stream",
          "name": "stdout",
          "text": [
            "Belajar Python\n",
            "Pejuang data 3.0\n",
            "PSDS\n",
            "String\n"
          ]
        }
      ]
    },
    {
      "cell_type": "code",
      "metadata": {
        "colab": {
          "base_uri": "https://localhost:8080/"
        },
        "id": "TEJtsQYkdBDe",
        "outputId": "9158546a-85c5-46fe-ea7e-1c02a7082b93"
      },
      "source": [
        "# Menampilkan karakter tertentu dalam string\n",
        "print(A[2])"
      ],
      "execution_count": null,
      "outputs": [
        {
          "output_type": "stream",
          "name": "stdout",
          "text": [
            "l\n"
          ]
        }
      ]
    },
    {
      "cell_type": "code",
      "metadata": {
        "colab": {
          "base_uri": "https://localhost:8080/"
        },
        "id": "y0y7gb19dHyl",
        "outputId": "7d7975f3-a861-451b-9dc6-64d93ac6e3f9"
      },
      "source": [
        "# Slicing pada string\n",
        "A = \"Belajar Struktur data string \"\n",
        "print(A[:5])\n",
        "print(A[3:])\n",
        "print(A[-5:])\n",
        "print(A[4:9])"
      ],
      "execution_count": null,
      "outputs": [
        {
          "output_type": "stream",
          "name": "stdout",
          "text": [
            "Belaj\n",
            "ajar Struktur data string \n",
            "ring \n",
            "jar S\n"
          ]
        }
      ]
    },
    {
      "cell_type": "markdown",
      "metadata": {
        "id": "iHFcR4WvdkTu"
      },
      "source": [
        "##Latihan 1"
      ]
    },
    {
      "cell_type": "code",
      "metadata": {
        "colab": {
          "base_uri": "https://localhost:8080/"
        },
        "id": "1uAtCIvYdmN-",
        "outputId": "6574a062-aad3-492b-8803-b2694e5107a2"
      },
      "source": [
        "# Buatlah variabel string lalu lakukan slicing dengan menghilangkan karakter pertama dan terakhir\n",
        "Asal = \"Aku Berasal dari Grobogan\"\n",
        "print(\"Ini kalimat yang masih utuh: \", Asal)\n",
        "\n",
        "print(\"Ini yang telah hilang karakter pertama dan terakhirnya: \", Asal[1:24])"
      ],
      "execution_count": null,
      "outputs": [
        {
          "output_type": "stream",
          "name": "stdout",
          "text": [
            "Ini kalimat yang masih utuh:  Aku Berasal dari Grobogan\n",
            "Ini yang telah hilang karakter pertama dan terakhirnya:  ku Berasal dari Groboga\n"
          ]
        }
      ]
    },
    {
      "cell_type": "markdown",
      "metadata": {
        "id": "tZB3S0e1fIEA"
      },
      "source": [
        "##Memodifikasi String"
      ]
    },
    {
      "cell_type": "code",
      "metadata": {
        "colab": {
          "base_uri": "https://localhost:8080/",
          "height": 35
        },
        "id": "r-tVJjyVfMBv",
        "outputId": "e1dd7c38-8d58-44c5-f3f3-7fd1f0dab50e"
      },
      "source": [
        "# upper()\n",
        "A.upper()"
      ],
      "execution_count": null,
      "outputs": [
        {
          "output_type": "execute_result",
          "data": {
            "application/vnd.google.colaboratory.intrinsic+json": {
              "type": "string"
            },
            "text/plain": [
              "'BELAJAR STRUKTUR DATA STRING '"
            ]
          },
          "metadata": {},
          "execution_count": 18
        }
      ]
    },
    {
      "cell_type": "code",
      "metadata": {
        "colab": {
          "base_uri": "https://localhost:8080/",
          "height": 35
        },
        "id": "lF0Pb-RpfVqA",
        "outputId": "d010c5b4-82ed-4e91-89b9-964d54d33781"
      },
      "source": [
        "# lower()\n",
        "A.lower()"
      ],
      "execution_count": null,
      "outputs": [
        {
          "output_type": "execute_result",
          "data": {
            "application/vnd.google.colaboratory.intrinsic+json": {
              "type": "string"
            },
            "text/plain": [
              "'belajar struktur data string '"
            ]
          },
          "metadata": {},
          "execution_count": 19
        }
      ]
    },
    {
      "cell_type": "code",
      "metadata": {
        "colab": {
          "base_uri": "https://localhost:8080/",
          "height": 35
        },
        "id": "Lkj4jq54fZqU",
        "outputId": "c08fdfa5-e8df-42b7-99f7-6173908792cf"
      },
      "source": [
        "# strip()\n",
        "A.strip()"
      ],
      "execution_count": null,
      "outputs": [
        {
          "output_type": "execute_result",
          "data": {
            "application/vnd.google.colaboratory.intrinsic+json": {
              "type": "string"
            },
            "text/plain": [
              "'Belajar Struktur data string'"
            ]
          },
          "metadata": {},
          "execution_count": 20
        }
      ]
    },
    {
      "cell_type": "code",
      "metadata": {
        "colab": {
          "base_uri": "https://localhost:8080/",
          "height": 35
        },
        "id": "Uxf5XL3BfeU-",
        "outputId": "4b1ed5e9-0f24-4878-eae4-4a6c4a7a42c5"
      },
      "source": [
        "# replace()\n",
        "A.replace('l', 'd')"
      ],
      "execution_count": null,
      "outputs": [
        {
          "output_type": "execute_result",
          "data": {
            "application/vnd.google.colaboratory.intrinsic+json": {
              "type": "string"
            },
            "text/plain": [
              "'Bedajar Struktur data string '"
            ]
          },
          "metadata": {},
          "execution_count": 21
        }
      ]
    },
    {
      "cell_type": "code",
      "metadata": {
        "colab": {
          "base_uri": "https://localhost:8080/"
        },
        "id": "f2JIQhRJfoT9",
        "outputId": "99dc4f24-f80f-4b81-d32b-32d02be526c4"
      },
      "source": [
        "# split()\n",
        "A.split()"
      ],
      "execution_count": null,
      "outputs": [
        {
          "output_type": "execute_result",
          "data": {
            "text/plain": [
              "['Belajar', 'Struktur', 'data', 'string']"
            ]
          },
          "metadata": {},
          "execution_count": 22
        }
      ]
    },
    {
      "cell_type": "markdown",
      "metadata": {
        "id": "bjjkHuNAfsW7"
      },
      "source": [
        "##Menggabungkan String"
      ]
    },
    {
      "cell_type": "code",
      "metadata": {
        "colab": {
          "base_uri": "https://localhost:8080/",
          "height": 35
        },
        "id": "IRAfB9f7fvCE",
        "outputId": "33564f2e-5c74-44f8-c649-63318952967a"
      },
      "source": [
        "A = \"Belajar Struktur Data String\"\n",
        "B = \"Pejuang Data 3.0\"\n",
        "A + \" \" + B"
      ],
      "execution_count": null,
      "outputs": [
        {
          "output_type": "execute_result",
          "data": {
            "application/vnd.google.colaboratory.intrinsic+json": {
              "type": "string"
            },
            "text/plain": [
              "'Belajar Struktur Data String Pejuang Data 3.0'"
            ]
          },
          "metadata": {},
          "execution_count": 23
        }
      ]
    },
    {
      "cell_type": "markdown",
      "metadata": {
        "id": "h1BToc-Xf6fn"
      },
      "source": [
        "##Latihan 2"
      ]
    },
    {
      "cell_type": "code",
      "metadata": {
        "colab": {
          "base_uri": "https://localhost:8080/"
        },
        "id": "eXUiA2WSf8rQ",
        "outputId": "b6c850e5-3b7b-4768-e374-158f57c58774"
      },
      "source": [
        "# Ganti semua huruf vokal menjadi \"i\" pada string yang telah kalian buat pada latihan 1\n",
        "Asal = Asal.replace('a', 'i')\n",
        "Asal = Asal.replace('u', 'i')\n",
        "Asal = Asal.replace('e', 'i')\n",
        "Asal = Asal.replace('o', 'i')\n",
        "\n",
        "print(Asal)"
      ],
      "execution_count": null,
      "outputs": [
        {
          "output_type": "stream",
          "name": "stdout",
          "text": [
            "Aki Birisil diri Gribigin\n"
          ]
        }
      ]
    }
  ]
}