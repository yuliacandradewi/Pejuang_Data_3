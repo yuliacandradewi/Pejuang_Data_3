{
  "nbformat": 4,
  "nbformat_minor": 0,
  "metadata": {
    "colab": {
      "name": "M4P1V4_Penggabungan_DataFrame.ipynb.ipynb",
      "provenance": [],
      "authorship_tag": "ABX9TyMRlDpPuFdxqq16CHwR6/j5",
      "include_colab_link": true
    },
    "kernelspec": {
      "name": "python3",
      "display_name": "Python 3"
    },
    "language_info": {
      "name": "python"
    }
  },
  "cells": [
    {
      "cell_type": "markdown",
      "metadata": {
        "id": "view-in-github",
        "colab_type": "text"
      },
      "source": [
        "<a href=\"https://colab.research.google.com/github/yuliacandradewi/Pejuang_Data_3/blob/main/M4P1V4_Penggabungan_DataFrame_ipynb.ipynb\" target=\"_parent\"><img src=\"https://colab.research.google.com/assets/colab-badge.svg\" alt=\"Open In Colab\"/></a>"
      ]
    },
    {
      "cell_type": "markdown",
      "metadata": {
        "id": "Hgpyt02iILn5"
      },
      "source": [
        "# Penggabungan Series/Dataframe"
      ]
    },
    {
      "cell_type": "markdown",
      "metadata": {
        "id": "8xkIAClvIOTp"
      },
      "source": [
        "Terdapat beberapa metode untuk menggabungkan Series/Dataframe di Pandas, yaitu:\n",
        "\n",
        "1. append\n",
        "2. concat\n",
        "3. merge\n",
        "4. join"
      ]
    },
    {
      "cell_type": "markdown",
      "metadata": {
        "id": "MaWzQ4TqISXf"
      },
      "source": [
        "# Import Library\n",
        "\n",
        "Import beberapa library berikut untuk digunakan di sepanjang notebook ini:"
      ]
    },
    {
      "cell_type": "code",
      "metadata": {
        "id": "b5xhMb0mH_6p"
      },
      "source": [
        "import pandas as pd"
      ],
      "execution_count": 1,
      "outputs": []
    },
    {
      "cell_type": "markdown",
      "metadata": {
        "id": "z_uvrVYaIXIq"
      },
      "source": [
        "## Append\n",
        "Method **.append()** dapat digunakan pada dataframe/series yang ditujukan untuk menambah row-nya saja. "
      ]
    },
    {
      "cell_type": "code",
      "metadata": {
        "colab": {
          "base_uri": "https://localhost:8080/"
        },
        "id": "9dPQpUdPIakV",
        "outputId": "5e36d4c4-13fa-43ab-aab5-87001ccb986b"
      },
      "source": [
        "# Membuat series of int (s1) dan series of string (s2)\n",
        "s1 = pd.Series([1,2,3,4,5,6])\n",
        "s2 = pd.Series([\"a\",\"b\",\"c\",\"d\",\"e\",\"f\"])\n",
        "# Menerapkan method append\n",
        "s1_append_s2 = s1.append(s2)\n",
        "print(\"Series - append:\\n\", s1_append_s2)"
      ],
      "execution_count": 2,
      "outputs": [
        {
          "output_type": "stream",
          "name": "stdout",
          "text": [
            "Series - append:\n",
            " 0    1\n",
            "1    2\n",
            "2    3\n",
            "3    4\n",
            "4    5\n",
            "5    6\n",
            "0    a\n",
            "1    b\n",
            "2    c\n",
            "3    d\n",
            "4    e\n",
            "5    f\n",
            "dtype: object\n"
          ]
        }
      ]
    },
    {
      "cell_type": "markdown",
      "metadata": {
        "id": "rwuC4E88Ic0V"
      },
      "source": [
        "Untuk **Dataframe**"
      ]
    },
    {
      "cell_type": "code",
      "metadata": {
        "colab": {
          "base_uri": "https://localhost:8080/"
        },
        "id": "jTisdE5XIfb4",
        "outputId": "256ef96b-d28f-4aa1-ca3b-a1311014eafd"
      },
      "source": [
        "# Buat dataframe df1 dan df2\n",
        "df1 = pd.DataFrame({'a':[1,2],\n",
        "                    'b':[3,4]})\n",
        "print(\"df1:\\n\", df1)\n",
        "df2 = pd.DataFrame({'b':[1,2],\n",
        "                    'a':[3,4]})\n",
        "print(\"df2:\\n\", df2)\n",
        "# Terapkan method append\n",
        "df1_append_df2 = df1.append(df2)\n",
        "print(\"Dataframe - append:\\n\", df1_append_df2)"
      ],
      "execution_count": 3,
      "outputs": [
        {
          "output_type": "stream",
          "name": "stdout",
          "text": [
            "df1:\n",
            "    a  b\n",
            "0  1  3\n",
            "1  2  4\n",
            "df2:\n",
            "    b  a\n",
            "0  1  3\n",
            "1  2  4\n",
            "Dataframe - append:\n",
            "    a  b\n",
            "0  1  3\n",
            "1  2  4\n",
            "0  3  1\n",
            "1  4  2\n"
          ]
        }
      ]
    },
    {
      "cell_type": "markdown",
      "metadata": {
        "id": "NqMYqNTTIhni"
      },
      "source": [
        "##Concat\n",
        "\n",
        "Method **.concat()** dapat digunakan pada dataframe yang ditujukan untuk penggabungan baik dalam row-wise (dalam arah ) atau column-wise."
      ]
    },
    {
      "cell_type": "code",
      "metadata": {
        "colab": {
          "base_uri": "https://localhost:8080/"
        },
        "id": "4_hC9cf_IkWQ",
        "outputId": "7aa1b555-c9e4-49a3-d8a6-a7008abdf975"
      },
      "source": [
        "# Membuat dataframe df1 dan df2\n",
        "df1 = pd.DataFrame({'a':[1,2],\n",
        "                    'b':[3,4]})\n",
        "print(\"df1:\\n\", df1)\n",
        "df2 = pd.DataFrame({'b':[1,2],\n",
        "                    'a':[3,4]})\n",
        "print(\"df2:\\n\", df2)\n",
        "# Menerapkan method concat row-wise\n",
        "row_wise_concat = pd.concat([df1,df2])\n",
        "print(\"Row-wise - concat:\\n\", row_wise_concat)"
      ],
      "execution_count": 4,
      "outputs": [
        {
          "output_type": "stream",
          "name": "stdout",
          "text": [
            "df1:\n",
            "    a  b\n",
            "0  1  3\n",
            "1  2  4\n",
            "df2:\n",
            "    b  a\n",
            "0  1  3\n",
            "1  2  4\n",
            "Row-wise - concat:\n",
            "    a  b\n",
            "0  1  3\n",
            "1  2  4\n",
            "0  3  1\n",
            "1  4  2\n"
          ]
        }
      ]
    },
    {
      "cell_type": "markdown",
      "metadata": {
        "id": "nlqERz7vImF6"
      },
      "source": [
        "Untuk penerapan concat pada **column-wise**"
      ]
    },
    {
      "cell_type": "code",
      "metadata": {
        "colab": {
          "base_uri": "https://localhost:8080/"
        },
        "id": "6uNkGmYlIod2",
        "outputId": "bd16e51e-d507-497b-99bb-3b5b420df38a"
      },
      "source": [
        "# Terapkan method concat column-wise\n",
        "col_wise_concat = pd.concat([df1, df2], axis=1)\n",
        "print(\"Column-wise - concat:\\n\", col_wise_concat)"
      ],
      "execution_count": 5,
      "outputs": [
        {
          "output_type": "stream",
          "name": "stdout",
          "text": [
            "Column-wise - concat:\n",
            "    a  b  b  a\n",
            "0  1  3  1  3\n",
            "1  2  4  2  4\n"
          ]
        }
      ]
    },
    {
      "cell_type": "markdown",
      "metadata": {
        "id": "KQi-vp9QIqjU"
      },
      "source": [
        "Dapat juga menambahkan identifier dari dataframe untuk data yang ditambahkan"
      ]
    },
    {
      "cell_type": "code",
      "metadata": {
        "colab": {
          "base_uri": "https://localhost:8080/"
        },
        "id": "yUU-s1q0ItmD",
        "outputId": "cd675851-3e77-4c31-ddf2-2703e4353f3c"
      },
      "source": [
        "# Penambahan identifier --> membentuh hasil penggabungan multiindex\n",
        "multiindex_concat = pd.concat([df1,df2],axis=0,keys=['df1','df2'])\n",
        "print(\"Multiindex - concat:\\n\", multiindex_concat)"
      ],
      "execution_count": 6,
      "outputs": [
        {
          "output_type": "stream",
          "name": "stdout",
          "text": [
            "Multiindex - concat:\n",
            "        a  b\n",
            "df1 0  1  3\n",
            "    1  2  4\n",
            "df2 0  3  1\n",
            "    1  4  2\n"
          ]
        }
      ]
    },
    {
      "cell_type": "markdown",
      "metadata": {
        "id": "YR027v8mIvU6"
      },
      "source": [
        "## Merge \n",
        "Method **.merge()** untuk menggabungkan Series/Dataframe yang bentuknya mirip dengan syntax join di SQL, specify left and right tables, join key dan how to join (left, right, inner, full outer)."
      ]
    },
    {
      "cell_type": "code",
      "metadata": {
        "colab": {
          "base_uri": "https://localhost:8080/"
        },
        "id": "jZTtrPe6IxeK",
        "outputId": "16ac0cb5-135b-4f07-e955-74a542b3bd03"
      },
      "source": [
        "# Membuat dataframe df1 dan df2\n",
        "df1 = pd.DataFrame({\n",
        "   'key':['k1','k2','k3','k4','k5'],\n",
        "   'val1':[200, 500, 0, 500, 100],\n",
        "   'val2':[30, 50, 100, 20, 10]\n",
        "})\n",
        "print(\"df1:\\n\", df1)\n",
        "df2 = pd.DataFrame({\n",
        "   'key':['k1','k3','k5','k7','k10'],\n",
        "   'val3':[1,2,3,4,5],\n",
        "   'val4':[6,7,8,8,10]\n",
        "})\n",
        "print(\"df2:\\n\", df2)"
      ],
      "execution_count": 7,
      "outputs": [
        {
          "output_type": "stream",
          "name": "stdout",
          "text": [
            "df1:\n",
            "   key  val1  val2\n",
            "0  k1   200    30\n",
            "1  k2   500    50\n",
            "2  k3     0   100\n",
            "3  k4   500    20\n",
            "4  k5   100    10\n",
            "df2:\n",
            "    key  val3  val4\n",
            "0   k1     1     6\n",
            "1   k3     2     7\n",
            "2   k5     3     8\n",
            "3   k7     4     8\n",
            "4  k10     5    10\n"
          ]
        }
      ]
    },
    {
      "cell_type": "markdown",
      "metadata": {
        "id": "eN7me-7CI0u3"
      },
      "source": [
        "pd.merge yang ekivalen dengan SQL **left join**"
      ]
    },
    {
      "cell_type": "code",
      "metadata": {
        "colab": {
          "base_uri": "https://localhost:8080/"
        },
        "id": "deGvU92EI3kB",
        "outputId": "efc8014e-2c2a-491d-febe-bef45b6dc1f1"
      },
      "source": [
        "# Merge yang ekivalen dengan SQL left join\n",
        "merge_df_left = pd.merge(left=df1, right=df2, how='left', left_on='key',right_on='key')\n",
        "print('Merge - Left:\\n', merge_df_left)"
      ],
      "execution_count": 8,
      "outputs": [
        {
          "output_type": "stream",
          "name": "stdout",
          "text": [
            "Merge - Left:\n",
            "   key  val1  val2  val3  val4\n",
            "0  k1   200    30   1.0   6.0\n",
            "1  k2   500    50   NaN   NaN\n",
            "2  k3     0   100   2.0   7.0\n",
            "3  k4   500    20   NaN   NaN\n",
            "4  k5   100    10   3.0   8.0\n"
          ]
        }
      ]
    },
    {
      "cell_type": "markdown",
      "metadata": {
        "id": "gOX7ELtaI5P-"
      },
      "source": [
        "pd.merge yang ekivalen dengan SQL **right join**"
      ]
    },
    {
      "cell_type": "code",
      "metadata": {
        "colab": {
          "base_uri": "https://localhost:8080/"
        },
        "id": "iu5Qha0xI76P",
        "outputId": "e8612ad6-9611-4e2c-b04f-6436793799a5"
      },
      "source": [
        "# Merge yang ekivalen dengan SQL right join\n",
        "merge_df_right = pd.merge(left=df1, right=df2, how='right', left_on='key',right_on='key')\n",
        "print('Merge - Right:\\n', merge_df_right)"
      ],
      "execution_count": 9,
      "outputs": [
        {
          "output_type": "stream",
          "name": "stdout",
          "text": [
            "Merge - Right:\n",
            "    key   val1   val2  val3  val4\n",
            "0   k1  200.0   30.0     1     6\n",
            "1   k3    0.0  100.0     2     7\n",
            "2   k5  100.0   10.0     3     8\n",
            "3   k7    NaN    NaN     4     8\n",
            "4  k10    NaN    NaN     5    10\n"
          ]
        }
      ]
    },
    {
      "cell_type": "markdown",
      "metadata": {
        "id": "1hRl9QEzI9i8"
      },
      "source": [
        "pd.merge yang ekivalen dengan SQL **inner join**"
      ]
    },
    {
      "cell_type": "code",
      "metadata": {
        "colab": {
          "base_uri": "https://localhost:8080/"
        },
        "id": "HfZHvzEkJAoz",
        "outputId": "2527f2ab-0c52-4402-9ff2-7e0c1872d228"
      },
      "source": [
        "# Merge yang ekivalen dengan SQL inner join\n",
        "merge_df_inner = pd.merge(left=df1, right=df2, how='inner', left_on='key',right_on='key')\n",
        "print('Merge - Inner:\\n', merge_df_inner)"
      ],
      "execution_count": 10,
      "outputs": [
        {
          "output_type": "stream",
          "name": "stdout",
          "text": [
            "Merge - Inner:\n",
            "   key  val1  val2  val3  val4\n",
            "0  k1   200    30     1     6\n",
            "1  k3     0   100     2     7\n",
            "2  k5   100    10     3     8\n"
          ]
        }
      ]
    },
    {
      "cell_type": "markdown",
      "metadata": {
        "id": "R79fkLW4JC83"
      },
      "source": [
        "pd.merge yang ekivalen dengan SQL **outer join**"
      ]
    },
    {
      "cell_type": "code",
      "metadata": {
        "colab": {
          "base_uri": "https://localhost:8080/"
        },
        "id": "dwnu1fESJFCl",
        "outputId": "9deeda0c-7bda-4b35-c52e-262f1583e4d1"
      },
      "source": [
        "# Merge yang ekivalen dengan SQL outer join\n",
        "merge_df_outer = pd.merge(left=df1, right=df2, how='outer', left_on='key',right_on='key')\n",
        "print('Merge - Outer:\\n', merge_df_outer)"
      ],
      "execution_count": 11,
      "outputs": [
        {
          "output_type": "stream",
          "name": "stdout",
          "text": [
            "Merge - Outer:\n",
            "    key   val1   val2  val3  val4\n",
            "0   k1  200.0   30.0   1.0   6.0\n",
            "1   k2  500.0   50.0   NaN   NaN\n",
            "2   k3    0.0  100.0   2.0   7.0\n",
            "3   k4  500.0   20.0   NaN   NaN\n",
            "4   k5  100.0   10.0   3.0   8.0\n",
            "5   k7    NaN    NaN   4.0   8.0\n",
            "6  k10    NaN    NaN   5.0  10.0\n"
          ]
        }
      ]
    },
    {
      "cell_type": "markdown",
      "metadata": {
        "id": "Kmf-xspyJGpo"
      },
      "source": [
        "Bagaimana jika salah satu dataframe atau keseluruhan dataframe yang akan digabungkan tersebut memiliki multiindex?"
      ]
    },
    {
      "cell_type": "code",
      "metadata": {
        "colab": {
          "base_uri": "https://localhost:8080/"
        },
        "id": "LsXJiTnRJKmd",
        "outputId": "a0354b36-b153-49f1-a8ee-a39d49eab86f"
      },
      "source": [
        "# Membuat dataframe df1 dan df2\n",
        "df1 = pd.DataFrame({\n",
        "   'key':['k1','k2','k3','k4','k5'],\n",
        "   'val1':[200, 500, 0, 500, 100],\n",
        "   'val2':[30, 50, 100, 20, 10]\n",
        "}).set_index(['key','val2'])\n",
        "print('Dataframe 1:\\n', df1)\n",
        "df2 = pd.DataFrame({\n",
        "   'key':['k1','k3','k5','k7','k10'],\n",
        "   'val3':[1,2,3,4,5],\n",
        "   'val4':[6,7,8,8,10]\n",
        "}).set_index(['key','val3'])\n",
        "print('Dataframe 2:\\n', df2)"
      ],
      "execution_count": 12,
      "outputs": [
        {
          "output_type": "stream",
          "name": "stdout",
          "text": [
            "Dataframe 1:\n",
            "           val1\n",
            "key val2      \n",
            "k1  30     200\n",
            "k2  50     500\n",
            "k3  100      0\n",
            "k4  20     500\n",
            "k5  10     100\n",
            "Dataframe 2:\n",
            "           val4\n",
            "key val3      \n",
            "k1  1        6\n",
            "k3  2        7\n",
            "k5  3        8\n",
            "k7  4        8\n",
            "k10 5       10\n"
          ]
        }
      ]
    },
    {
      "cell_type": "markdown",
      "metadata": {
        "id": "oUZraEkZJMUd"
      },
      "source": [
        "Jika digabungkan secara langsung seperti yang telah dilakukan pada bagian sebelumnya"
      ]
    },
    {
      "cell_type": "code",
      "metadata": {
        "id": "8YhK_TjsJZyY"
      },
      "source": [
        "# Merge dataframe yang memiliki multi index\n",
        "# df_merge = pd.merge(df1,df2)\n",
        "# print('Merging dataframe:\\n', df_merge)"
      ],
      "execution_count": 13,
      "outputs": []
    },
    {
      "cell_type": "code",
      "metadata": {
        "colab": {
          "base_uri": "https://localhost:8080/"
        },
        "id": "ccUB9i58JZk2",
        "outputId": "fd7247eb-01f4-48e5-f679-0b07d251cc7b"
      },
      "source": [
        "# Merge dataframe yang memiliki multi index\n",
        "df_merge = pd.merge(df1.reset_index(),df2.reset_index())\n",
        "print('Merging dataframe:\\n', df_merge)"
      ],
      "execution_count": 14,
      "outputs": [
        {
          "output_type": "stream",
          "name": "stdout",
          "text": [
            "Merging dataframe:\n",
            "   key  val2  val1  val3  val4\n",
            "0  k1    30   200     1     6\n",
            "1  k3   100     0     2     7\n",
            "2  k5    10   100     3     8\n"
          ]
        }
      ]
    },
    {
      "cell_type": "markdown",
      "metadata": {
        "id": "517NpSiQJhux"
      },
      "source": [
        "## Join\n",
        "Metthod **.join()** digunakan pada dataframe untuk menggabungkan kedua data dengan set index pada kedua tabel tersebut sebagai join key, tanpa index, hal ini tidak akan berhasil.\n"
      ]
    },
    {
      "cell_type": "code",
      "metadata": {
        "id": "Ksc5TgkRJj0Q"
      },
      "source": [
        "# Buat dataframe df1 dan df2\n",
        "df1 = pd.DataFrame({\n",
        "   'key':['k1','k2','k3','k4','k5'],\n",
        "   'val1':[200, 500, 0, 500, 100],\n",
        "   'val2':[30, 50, 100, 20, 10]\n",
        "})\n",
        "df2 = pd.DataFrame({\n",
        "   'key':['k1','k3','k5','k7','k10'],\n",
        "   'val3':[1,2,3,4,5],\n",
        "   'val4':[6,7,8,8,10]\n",
        "})\n",
        "# Penerapan join dengan menggunakan set_index dan keyword how\n",
        "# df1.join(df2) #<-- akan error"
      ],
      "execution_count": 15,
      "outputs": []
    },
    {
      "cell_type": "code",
      "metadata": {
        "colab": {
          "base_uri": "https://localhost:8080/"
        },
        "id": "pW5osq0ZJl8l",
        "outputId": "acf4bcca-b4a0-466c-f29a-6e221861355b"
      },
      "source": [
        "print(df1.set_index('key').join(df2.set_index('key')))"
      ],
      "execution_count": 16,
      "outputs": [
        {
          "output_type": "stream",
          "name": "stdout",
          "text": [
            "     val1  val2  val3  val4\n",
            "key                        \n",
            "k1    200    30   1.0   6.0\n",
            "k2    500    50   NaN   NaN\n",
            "k3      0   100   2.0   7.0\n",
            "k4    500    20   NaN   NaN\n",
            "k5    100    10   3.0   8.0\n"
          ]
        }
      ]
    },
    {
      "cell_type": "markdown",
      "metadata": {
        "id": "MJR-MsxsJn0-"
      },
      "source": [
        "Untuk tipe join yang lain (contoh=inner), harus menspecify keyword how='inner' seperti yang dicontohkan berikut ini"
      ]
    },
    {
      "cell_type": "code",
      "metadata": {
        "colab": {
          "base_uri": "https://localhost:8080/"
        },
        "id": "xYeBlmaiJp--",
        "outputId": "aacb9a9e-2acb-4e5a-bda0-c6e50c58e69a"
      },
      "source": [
        "join_df = df1.set_index('key').join(df2.set_index('key'), how='inner')\n",
        "print(join_df)"
      ],
      "execution_count": 17,
      "outputs": [
        {
          "output_type": "stream",
          "name": "stdout",
          "text": [
            "     val1  val2  val3  val4\n",
            "key                        \n",
            "k1    200    30     1     6\n",
            "k3      0   100     2     7\n",
            "k5    100    10     3     8\n"
          ]
        }
      ]
    }
  ]
}