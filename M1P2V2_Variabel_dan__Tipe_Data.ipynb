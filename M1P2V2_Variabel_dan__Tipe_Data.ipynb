{
  "nbformat": 4,
  "nbformat_minor": 0,
  "metadata": {
    "colab": {
      "name": "M1P2V2_Variabel_dan _Tipe_Data.ipynb",
      "provenance": [],
      "collapsed_sections": [],
      "authorship_tag": "ABX9TyOn68Q+AweQGV31EIdW7sfZ",
      "include_colab_link": true
    },
    "kernelspec": {
      "name": "python3",
      "display_name": "Python 3"
    },
    "language_info": {
      "name": "python"
    }
  },
  "cells": [
    {
      "cell_type": "markdown",
      "metadata": {
        "id": "view-in-github",
        "colab_type": "text"
      },
      "source": [
        "<a href=\"https://colab.research.google.com/github/yuliacandradewi/Pejuang_Data_3/blob/main/M1P2V2_Variabel_dan__Tipe_Data.ipynb\" target=\"_parent\"><img src=\"https://colab.research.google.com/assets/colab-badge.svg\" alt=\"Open In Colab\"/></a>"
      ]
    },
    {
      "cell_type": "markdown",
      "metadata": {
        "id": "RRNXcxz0DUAf"
      },
      "source": [
        "# Variabel & Tipe Data"
      ]
    },
    {
      "cell_type": "markdown",
      "metadata": {
        "id": "xr78DRSGDY7z"
      },
      "source": [
        "## Variabel"
      ]
    },
    {
      "cell_type": "markdown",
      "metadata": {
        "id": "cfWH3_caDcm2"
      },
      "source": [
        "**variabeles**: Lokasi penyimpanan yang dapat digunakan untuk menampung sebuah data atau informasi.\n",
        "\n",
        "Syarat-syarat penamaan variabel\n",
        "1. Karakter-karakter yang digunakan untuk penamaan variable adalah alphabet, angka, dan underscore.\n",
        "2. Karakter pertama variable harus berupa huruf atau garis bawah/underscore, dan tidak bisa berupa angka.\n",
        "3. Nama sebuah variabel tidak bisa menggunakan keyword atau reserved words dari bahasa python seperti for, if, dan lainnya.\n",
        "4. Karakter pada nama variabel bersifat sensitif (case-sensitif)"
      ]
    },
    {
      "cell_type": "code",
      "metadata": {
        "id": "8er5bp6bDC5O"
      },
      "source": [
        "# membuat variabel\n",
        "kalimat = 'ini adalah variabel'\n",
        "bilangan1 = 4\n",
        "bilangan2 = 2.5\n",
        "bilangan3 = True\n",
        "bilangan4 = 1j + 4"
      ],
      "execution_count": null,
      "outputs": []
    },
    {
      "cell_type": "code",
      "metadata": {
        "colab": {
          "base_uri": "https://localhost:8080/"
        },
        "id": "r2CGXs3XE9DU",
        "outputId": "da10f81e-22de-4750-b217-a57f9c988510"
      },
      "source": [
        "# menampilkan variabel\n",
        "print(kalimat)\n",
        "print(bilangan1)\n",
        "print(bilangan2)"
      ],
      "execution_count": null,
      "outputs": [
        {
          "output_type": "stream",
          "name": "stdout",
          "text": [
            "ini adalah variabel\n",
            "4\n",
            "2.5\n"
          ]
        }
      ]
    },
    {
      "cell_type": "markdown",
      "metadata": {
        "id": "tAosq3AWFGI1"
      },
      "source": [
        "### Latihan 1"
      ]
    },
    {
      "cell_type": "code",
      "metadata": {
        "colab": {
          "base_uri": "https://localhost:8080/"
        },
        "id": "LAqri9bmFI8N",
        "outputId": "59f21306-7f4d-458e-8dd7-132f4dfbb410"
      },
      "source": [
        "# buatlah 5 variabel kalian sendiri dengan 5 macam tipe data\n",
        "# lalu tampilkan variabel menggunakan fungsi print\n",
        "\n",
        "# membuat variabel\n",
        "data1 = 7 \n",
        "data2 = 5.7 \n",
        "data3 = 'Saya Mahasiswa Matematika UAD' \n",
        "data4 = False \n",
        "data5 = 4j + 7 \n",
        "\n",
        "# menampilkan variabel\n",
        "print(data1)\n",
        "print(data2)\n",
        "print(data3)\n",
        "print(data4)\n",
        "print(data5)"
      ],
      "execution_count": null,
      "outputs": [
        {
          "output_type": "stream",
          "name": "stdout",
          "text": [
            "7\n",
            "5.7\n",
            "Saya Mahasiswa Matematika UAD\n",
            "False\n",
            "(7+4j)\n"
          ]
        }
      ]
    },
    {
      "cell_type": "markdown",
      "metadata": {
        "id": "iRn3MjC5FTd2"
      },
      "source": [
        "## Tipe Data"
      ]
    },
    {
      "cell_type": "markdown",
      "metadata": {
        "id": "46HTOKUnFW80"
      },
      "source": [
        "5 tipe data yaitu\n",
        "1. In teger atau bilangan bulat\n",
        "2. Float atau bilangan desimal\n",
        "3. String atau kalimat\n",
        "4. Boolean yang terdiri dari True dan False\n",
        "5. Complex yang merupakan bilangan kompleks"
      ]
    },
    {
      "cell_type": "code",
      "metadata": {
        "colab": {
          "base_uri": "https://localhost:8080/"
        },
        "id": "bURkpFSaFsb1",
        "outputId": "ff052e60-710d-4021-f55c-553e0093fffd"
      },
      "source": [
        "# menampilkan tipe data\n",
        "print(type(kalimat))\n",
        "print(type(bilangan1))\n",
        "print(type(bilangan2))\n",
        "print(type(bilangan3))\n",
        "print(type(bilangan4))"
      ],
      "execution_count": null,
      "outputs": [
        {
          "output_type": "stream",
          "name": "stdout",
          "text": [
            "<class 'str'>\n",
            "<class 'int'>\n",
            "<class 'float'>\n",
            "<class 'bool'>\n",
            "<class 'complex'>\n"
          ]
        }
      ]
    },
    {
      "cell_type": "markdown",
      "metadata": {
        "id": "z2317O5KGB3i"
      },
      "source": [
        "### latihan 2"
      ]
    },
    {
      "cell_type": "code",
      "metadata": {
        "colab": {
          "base_uri": "https://localhost:8080/"
        },
        "id": "JjIwHpchGAsC",
        "outputId": "405d2aee-611e-4c67-981c-301479060add"
      },
      "source": [
        "# cek tipe data variabel yang telah kalian buat pada latihan 1\n",
        "\n",
        "# menampilkan tipe data\n",
        "print(type(data1))\n",
        "print(type(data2))\n",
        "print(type(data3))\n",
        "print(type(data4))\n",
        "print(type(data5))"
      ],
      "execution_count": null,
      "outputs": [
        {
          "output_type": "stream",
          "name": "stdout",
          "text": [
            "<class 'int'>\n",
            "<class 'float'>\n",
            "<class 'str'>\n",
            "<class 'bool'>\n",
            "<class 'complex'>\n"
          ]
        }
      ]
    },
    {
      "cell_type": "markdown",
      "metadata": {
        "id": "VnbE_8FOGT9s"
      },
      "source": [
        "## Konversi Tipe Data"
      ]
    },
    {
      "cell_type": "markdown",
      "metadata": {
        "id": "4qrKl8BdGasU"
      },
      "source": [
        "Syntax konversi tipe data\n",
        "1. Integer = int()\n",
        "2. Float = float()\n",
        "3. String = str()\n",
        "4. Boolean = bool()\n",
        "5. Complex = Complex()"
      ]
    },
    {
      "cell_type": "code",
      "metadata": {
        "colab": {
          "base_uri": "https://localhost:8080/"
        },
        "id": "3BxVmmPwGyk2",
        "outputId": "433e4c07-e597-48fd-bded-d26778244719"
      },
      "source": [
        "# konversi tipe data integer\n",
        "print(int(bilangan2))\n",
        "print(int(bilangan3))"
      ],
      "execution_count": null,
      "outputs": [
        {
          "output_type": "stream",
          "name": "stdout",
          "text": [
            "2\n",
            "1\n"
          ]
        }
      ]
    },
    {
      "cell_type": "code",
      "metadata": {
        "colab": {
          "base_uri": "https://localhost:8080/"
        },
        "id": "RMGm02iGG848",
        "outputId": "582746ed-90a3-4e8d-a206-3ca1edfddf4a"
      },
      "source": [
        "# konversi tipe data float\n",
        "print(float(bilangan1))\n",
        "print(float(bilangan3))"
      ],
      "execution_count": null,
      "outputs": [
        {
          "output_type": "stream",
          "name": "stdout",
          "text": [
            "4.0\n",
            "1.0\n"
          ]
        }
      ]
    },
    {
      "cell_type": "code",
      "metadata": {
        "colab": {
          "base_uri": "https://localhost:8080/"
        },
        "id": "G32oHdLgHFnO",
        "outputId": "c66dc4ef-b752-4413-a004-1596d93edfef"
      },
      "source": [
        "# konversi tipe data string\n",
        "print(str(bilangan1))\n",
        "print(str(bilangan2))\n",
        "print(str(bilangan3))"
      ],
      "execution_count": null,
      "outputs": [
        {
          "output_type": "stream",
          "name": "stdout",
          "text": [
            "4\n",
            "2.5\n",
            "True\n"
          ]
        }
      ]
    },
    {
      "cell_type": "code",
      "metadata": {
        "colab": {
          "base_uri": "https://localhost:8080/"
        },
        "id": "dRHEeSv7HV-6",
        "outputId": "b84015d1-4538-4a61-a115-20bf7bd08219"
      },
      "source": [
        "# konversi tipe data bool\n",
        "print(bool(bilangan1))\n",
        "print(bool(bilangan2))"
      ],
      "execution_count": null,
      "outputs": [
        {
          "output_type": "stream",
          "name": "stdout",
          "text": [
            "True\n",
            "True\n"
          ]
        }
      ]
    },
    {
      "cell_type": "code",
      "metadata": {
        "colab": {
          "base_uri": "https://localhost:8080/"
        },
        "id": "nPeLRJWtHtCZ",
        "outputId": "7709d657-deca-4b59-b905-ed01a40f87ae"
      },
      "source": [
        "# konvrsi tipe data complex\n",
        "print(complex(bilangan1))\n",
        "print(complex(bilangan2))\n",
        "print(complex(bilangan3))"
      ],
      "execution_count": null,
      "outputs": [
        {
          "output_type": "stream",
          "name": "stdout",
          "text": [
            "(4+0j)\n",
            "(2.5+0j)\n",
            "(1+0j)\n"
          ]
        }
      ]
    },
    {
      "cell_type": "markdown",
      "metadata": {
        "id": "tMm8EQWdH9mK"
      },
      "source": [
        "### Latihan 3"
      ]
    },
    {
      "cell_type": "code",
      "metadata": {
        "colab": {
          "base_uri": "https://localhost:8080/"
        },
        "id": "A2aKbYu9IAIl",
        "outputId": "20e2e57f-777b-4191-eb86-80edecd73579"
      },
      "source": [
        "# konversi tipe data variabel yang telah kalian buat\n",
        "# menjadi berbagai macam tipe data\n",
        "\n",
        "# konversi tipe data integer\n",
        "print('konversi tipe data integer')\n",
        "print(int(data2))\n",
        "print(int(data4))\n",
        "print('-'*20)\n",
        "\n",
        "# konversi tipe data float\n",
        "print('konversi tipe data float')\n",
        "print(float(data1))\n",
        "print(float(data4))\n",
        "print('-'*20)\n",
        "\n",
        "# konversi tipe data string\n",
        "print('konversi tipe data string')\n",
        "print(str(data1))\n",
        "print(str(data2))\n",
        "print(str(data4))\n",
        "print(str(data5))\n",
        "print('-'*20)\n",
        "\n",
        "# konversi tipe data bool\n",
        "print('konversi tipe data bool')\n",
        "print(bool(data1))\n",
        "print(bool(data2))\n",
        "print(bool(data3))\n",
        "print(bool(data5))\n",
        "print('-'*20)\n",
        "\n",
        "# konvrsi tipe data complex\n",
        "print('konversi tipe data complex')\n",
        "print(complex(data1))\n",
        "print(complex(data2))\n",
        "print(complex(data4))\n",
        "print('-'*20)"
      ],
      "execution_count": null,
      "outputs": [
        {
          "output_type": "stream",
          "name": "stdout",
          "text": [
            "konversi tipe data integer\n",
            "5\n",
            "0\n",
            "--------------------\n",
            "konversi tipe data float\n",
            "7.0\n",
            "0.0\n",
            "--------------------\n",
            "konversi tipe data string\n",
            "7\n",
            "5.7\n",
            "False\n",
            "(7+4j)\n",
            "--------------------\n",
            "konversi tipe data bool\n",
            "True\n",
            "True\n",
            "True\n",
            "True\n",
            "--------------------\n",
            "konversi tipe data complex\n",
            "(7+0j)\n",
            "(5.7+0j)\n",
            "0j\n",
            "--------------------\n"
          ]
        }
      ]
    }
  ]
}