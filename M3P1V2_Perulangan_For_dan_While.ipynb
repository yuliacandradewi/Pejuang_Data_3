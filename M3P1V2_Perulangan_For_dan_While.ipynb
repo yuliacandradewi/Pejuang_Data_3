{
  "nbformat": 4,
  "nbformat_minor": 0,
  "metadata": {
    "colab": {
      "name": "M3P1V2_Perulangan_For_dan_While.ipynb",
      "provenance": [],
      "collapsed_sections": [],
      "authorship_tag": "ABX9TyNFP5gLRtzbWFm+haIR53Tj",
      "include_colab_link": true
    },
    "kernelspec": {
      "name": "python3",
      "display_name": "Python 3"
    },
    "language_info": {
      "name": "python"
    }
  },
  "cells": [
    {
      "cell_type": "markdown",
      "metadata": {
        "id": "view-in-github",
        "colab_type": "text"
      },
      "source": [
        "<a href=\"https://colab.research.google.com/github/yuliacandradewi/Pejuang_Data_3/blob/main/M3P1V2_Perulangan_For_dan_While.ipynb\" target=\"_parent\"><img src=\"https://colab.research.google.com/assets/colab-badge.svg\" alt=\"Open In Colab\"/></a>"
      ]
    },
    {
      "cell_type": "markdown",
      "metadata": {
        "id": "bZf3XhMgCcI9"
      },
      "source": [
        "#**Looping/Perulangan**\n",
        "Python menyediakan dua statement untuk melakukan proses perulangan yaitu for dan while. Diantara kedua statement ini, secara umum for lebih banyak digunakan daripada while."
      ]
    },
    {
      "cell_type": "markdown",
      "metadata": {
        "id": "-Wb-qK42DAqQ"
      },
      "source": [
        "##For Loop\n",
        "Perulangan ```for``` digunakan untuk melakukan iterasi di dalam ```sequence``` seperti ```list```, ```tuple```, ```string```, dan ```array``` atau objek yang dapat diiterasi lainnya.\n",
        "\n",
        "**For Loop Syntax**\n",
        "```\n",
        "for val in sequence:\n",
        "    loop body\n",
        "```\n"
      ]
    },
    {
      "cell_type": "markdown",
      "metadata": {
        "id": "2Ht9lAyPD77F"
      },
      "source": [
        "**For Loop Flowchart**"
      ]
    },
    {
      "cell_type": "markdown",
      "metadata": {
        "id": "Y5fxaAOaLS09"
      },
      "source": [
        "![satu.png](data:image/png;base64,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)"
      ]
    },
    {
      "cell_type": "markdown",
      "metadata": {
        "id": "4SWaxnexEDKS"
      },
      "source": [
        "**Example: Python For Loop**"
      ]
    },
    {
      "cell_type": "code",
      "metadata": {
        "colab": {
          "base_uri": "https://localhost:8080/"
        },
        "id": "h2e4znMUD3RF",
        "outputId": "62a1ccad-f824-4eb8-a1cc-c474db1005d0"
      },
      "source": [
        "# Program untuk menghitung jumlah semua angka dalam sebuah list\n",
        "L1 = [2, 4, 5, 7, 9]\n",
        "jumlah = 0\n",
        "\n",
        "# Iterasi di dalam list\n",
        "for i in L1:\n",
        "    jumlah = jumlah + i\n",
        "\n",
        "print(jumlah)"
      ],
      "execution_count": 2,
      "outputs": [
        {
          "output_type": "stream",
          "name": "stdout",
          "text": [
            "27\n"
          ]
        }
      ]
    },
    {
      "cell_type": "markdown",
      "metadata": {
        "id": "D5AMZL_9Em_J"
      },
      "source": [
        "**The range() function**"
      ]
    },
    {
      "cell_type": "code",
      "metadata": {
        "colab": {
          "base_uri": "https://localhost:8080/"
        },
        "id": "wdcbqCsICQEF",
        "outputId": "50032c23-6f69-48fd-8456-fc8a3a9b4ec7"
      },
      "source": [
        "# Program untuk melakukan iterasi di dalam list melalui indeks\n",
        "minuman = [\"teh\", \"boba\", \"kopi\", \"susu\"]\n",
        "p = len(minuman)\n",
        "\n",
        "# Iterasi di dalam list melalui indeks\n",
        "for i in range(p):\n",
        "    print(minuman[i])"
      ],
      "execution_count": 3,
      "outputs": [
        {
          "output_type": "stream",
          "name": "stdout",
          "text": [
            "teh\n",
            "boba\n",
            "kopi\n",
            "susu\n"
          ]
        }
      ]
    },
    {
      "cell_type": "markdown",
      "metadata": {
        "id": "hLbNq_QiFW4C"
      },
      "source": [
        "**For loop with else**"
      ]
    },
    {
      "cell_type": "code",
      "metadata": {
        "colab": {
          "base_uri": "https://localhost:8080/"
        },
        "id": "-XeFEh5fFf2r",
        "outputId": "713a8160-159e-4302-a24a-3faa93fa9712"
      },
      "source": [
        "# Contoh for loop menggunakan else\n",
        "for i in range(p):\n",
        "    print(minuman[i])\n",
        "else:\n",
        "    print(\"Elemen sudah habis\")"
      ],
      "execution_count": 4,
      "outputs": [
        {
          "output_type": "stream",
          "name": "stdout",
          "text": [
            "teh\n",
            "boba\n",
            "kopi\n",
            "susu\n",
            "Elemen sudah habis\n"
          ]
        }
      ]
    },
    {
      "cell_type": "markdown",
      "metadata": {
        "id": "J6Q4OEg6FzFz"
      },
      "source": [
        "##Latihan 1\n",
        "Diberikan ```list_tagihan```. Kamu diminta untuk menghitung jumlah seluruh tagihan! Gunakan looping ```for``` untuk menyelesaikan tugas ini! Simpan hasilnya pada variabel ```total_tagihan```!\n",
        "```\n",
        "list_tagihan = [50000, 75000, -150000, 125000, 300000, -50000, 200000]\n",
        "```"
      ]
    },
    {
      "cell_type": "code",
      "metadata": {
        "colab": {
          "base_uri": "https://localhost:8080/"
        },
        "id": "UbXpn4iiF1co",
        "outputId": "c19d44ff-f4b9-48da-feb1-156c82b4d810"
      },
      "source": [
        "# Tuliskan code kalian\n",
        "list_tagihan = [50000, 75000, -150000, 125000, 300000, -50000, 200000]\n",
        "total_tagihan = 0\n",
        "\n",
        "# Iterasi di dalam list\n",
        "for i in list_tagihan:\n",
        "    total_tagihan = total_tagihan + i\n",
        "\n",
        "print(total_tagihan)\n"
      ],
      "execution_count": 8,
      "outputs": [
        {
          "output_type": "stream",
          "name": "stdout",
          "text": [
            "550000\n"
          ]
        }
      ]
    },
    {
      "cell_type": "markdown",
      "metadata": {
        "id": "47VRcxXHHdlK"
      },
      "source": [
        "##While Loop\n",
        "While loop pada Python digunakan untuk melakukan iterasi pada blok kode selama nilai dari ```test expression``` adalah ```true```.\n",
        "\n",
        "**Syntax of While Loop in Python**\n",
        "```\n",
        "while test_expression:\n",
        "      Body of while\n",
        "```"
      ]
    },
    {
      "cell_type": "markdown",
      "metadata": {
        "id": "oKplkqXsIGFs"
      },
      "source": [
        "**While Loop Flowchart**"
      ]
    },
    {
      "cell_type": "markdown",
      "metadata": {
        "id": "2Q6k_wYSLYOI"
      },
      "source": [
        "![dua.png](data:image/png;base64,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)"
      ]
    },
    {
      "cell_type": "markdown",
      "metadata": {
        "id": "g9uvn5nHIdDM"
      },
      "source": [
        "**Example: Python While Loop**"
      ]
    },
    {
      "cell_type": "code",
      "metadata": {
        "colab": {
          "base_uri": "https://localhost:8080/"
        },
        "id": "nV6PgKjvIUir",
        "outputId": "c1fb47ec-ee6a-44c9-8f44-dabec2595de7"
      },
      "source": [
        "# Program untuk menjumlahkan semua\n",
        "# bilangan asli hingga suku ke-n\n",
        "# jum = 1+2+3+...+n\n",
        "\n",
        "n = 10\n",
        "jumlah = 0\n",
        "i = 1\n",
        "\n",
        "while i <= n:\n",
        "      jumlah = jumlah + i\n",
        "      i = i + 1\n",
        "\n",
        "print(jumlah)\n"
      ],
      "execution_count": 6,
      "outputs": [
        {
          "output_type": "stream",
          "name": "stdout",
          "text": [
            "55\n"
          ]
        }
      ]
    },
    {
      "cell_type": "markdown",
      "metadata": {
        "id": "tZhfJROvJBKv"
      },
      "source": [
        "## While loop with else\n",
        "Sama dengan ```for``` loop kita juga dapat mengkombinasikan ```while``` loop dengan blok ```else```. \n",
        "\n",
        "Bagian ```else``` akan dieksekusi jika nilai pada ```test expression``` pada ```while loop``` bernilai ```False```. Perhatikan contoh berikut:\n"
      ]
    },
    {
      "cell_type": "code",
      "metadata": {
        "colab": {
          "base_uri": "https://localhost:8080/"
        },
        "id": "_9z6ySMmJmmR",
        "outputId": "ccc6801e-6781-4c50-dff1-7b98c5010905"
      },
      "source": [
        "jum = 0\n",
        "i = 1\n",
        "while i <= n:\n",
        "      jum = jum + i\n",
        "      i = i + 1\n",
        "else:\n",
        "      print(jum) # dieksekusi di luar looping"
      ],
      "execution_count": 7,
      "outputs": [
        {
          "output_type": "stream",
          "name": "stdout",
          "text": [
            "55\n"
          ]
        }
      ]
    },
    {
      "cell_type": "markdown",
      "metadata": {
        "id": "sbZ_sRoaJ_FA"
      },
      "source": [
        "##Latihan 2\n",
        "Diberikan list ```tagihan``` hitunglah ```total_tagihan``` menggunakan ```while loop```.\n",
        "```\n",
        "tagihan = [50000, 75000, 125000, 300000, 200000]\n",
        "```"
      ]
    },
    {
      "cell_type": "code",
      "metadata": {
        "colab": {
          "base_uri": "https://localhost:8080/"
        },
        "id": "6W2AU4rrKVwq",
        "outputId": "f5b84c91-cf93-4ecf-d117-9182d3190c19"
      },
      "source": [
        "# Tuliskan kodemu\n",
        "tagihan = [50000, 75000, 125000, 300000, 200000]\n",
        "i = 0\n",
        "jumlah_tagihan = len(tagihan)\n",
        "total_tagihan = 0\n",
        "\n",
        "while i < jumlah_tagihan:\n",
        "      total_tagihan = total_tagihan + tagihan[i]\n",
        "      i = i + 1\n",
        "\n",
        "print(total_tagihan)\n"
      ],
      "execution_count": 14,
      "outputs": [
        {
          "output_type": "stream",
          "name": "stdout",
          "text": [
            "750000\n"
          ]
        }
      ]
    }
  ]
}